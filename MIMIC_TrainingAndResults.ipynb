{
 "cells": [
  {
   "cell_type": "markdown",
   "metadata": {},
   "source": [
    "# MODEL TRAINING"
   ]
  },
  {
   "cell_type": "markdown",
   "metadata": {},
   "source": [
    "Inspired and built off of Readmission prediction modelling through Natural Language Processing from github code: https://github.com/andrewwlong/odsc_workshop"
   ]
  },
  {
   "cell_type": "markdown",
   "metadata": {},
   "source": [
    "# Step 1. Prepare dataset for training"
   ]
  },
  {
   "cell_type": "markdown",
   "metadata": {},
   "source": [
    "## Load the preprocessed dataset "
   ]
  },
  {
   "cell_type": "code",
   "execution_count": 1,
   "metadata": {},
   "outputs": [],
   "source": [
    "import pandas as pd\n",
    "import numpy as np\n",
    "import matplotlib.pyplot as plt\n",
    "df_adm_notes_clean = pd.read_csv('./df_adm_notes_final.csv')"
   ]
  },
  {
   "cell_type": "code",
   "execution_count": 2,
   "metadata": {},
   "outputs": [],
   "source": [
    "# put column of Readmission labels\n",
    "df_adm_notes_clean['OUTPUT_LABEL'] = (df_adm_notes_clean.DAYS_NEXT_ADMIT < 30).astype('int')"
   ]
  },
  {
   "cell_type": "code",
   "execution_count": 3,
   "metadata": {},
   "outputs": [
    {
     "name": "stdout",
     "output_type": "stream",
     "text": [
      "Number of positive samples (<30 Day Readmissions): 3004\n",
      "Number of negative samples: 48109\n",
      "Total samples: 51113\n"
     ]
    }
   ],
   "source": [
    "print('Number of positive samples (<30 Day Readmissions):', (df_adm_notes_clean.OUTPUT_LABEL == 1).sum())\n",
    "print('Number of negative samples:',  (df_adm_notes_clean.OUTPUT_LABEL == 0).sum())\n",
    "print('Total samples:', len(df_adm_notes_clean))"
   ]
  },
  {
   "cell_type": "code",
   "execution_count": 4,
   "metadata": {},
   "outputs": [],
   "source": [
    "# randomly shuffle data first\n",
    "df_adm_notes_clean = df_adm_notes_clean.sample(n = len(df_adm_notes_clean), random_state = 77)\n",
    "df_adm_notes_clean = df_adm_notes_clean.reset_index(drop = True)\n",
    "\n",
    "# 10% validation data and 10% test data \n",
    "df_valid_test=df_adm_notes_clean.sample(frac=0.20,random_state=77)\n",
    "df_test = df_valid_test.sample(frac = 0.5, random_state = 77)\n",
    "df_valid = df_valid_test.drop(df_test.index)\n",
    "\n",
    "# 80% training data\n",
    "df_train_all=df_adm_notes_clean.drop(df_valid_test.index)"
   ]
  },
  {
   "cell_type": "code",
   "execution_count": 5,
   "metadata": {},
   "outputs": [
    {
     "name": "stdout",
     "output_type": "stream",
     "text": [
      "Test prevalence(n = 5112):0.059\n",
      "Valid prevalence(n = 5111):0.057\n",
      "Train all prevalence(n = 40890):0.059\n",
      "all samples (n = 51113)\n"
     ]
    }
   ],
   "source": [
    "print('Test prevalence(n = %d):%.3f'%(len(df_test),df_test.OUTPUT_LABEL.sum()/ len(df_test)))\n",
    "print('Valid prevalence(n = %d):%.3f'%(len(df_valid),df_valid.OUTPUT_LABEL.sum()/ len(df_valid)))\n",
    "print('Train all prevalence(n = %d):%.3f'%(len(df_train_all), df_train_all.OUTPUT_LABEL.sum()/ len(df_train_all)))\n",
    "print('all samples (n = %d)'%len(df_adm_notes_clean))\n",
    "assert len(df_adm_notes_clean) == (len(df_test)+len(df_valid)+len(df_train_all)),'math didnt work'"
   ]
  },
  {
   "cell_type": "code",
   "execution_count": 6,
   "metadata": {},
   "outputs": [],
   "source": [
    "df_test.to_csv('./df_test.csv',index=False)\n",
    "df_valid.to_csv('./df_valid.csv',index=False)\n",
    "\n",
    "df_test = pd.read_csv('./df_test.csv')\n",
    "df_valid = pd.read_csv('./df_valid.csv')"
   ]
  },
  {
   "cell_type": "markdown",
   "metadata": {},
   "source": [
    "Perform data augmentation (oversampling, undersampling) to balance the data due to low prevalence in the training set"
   ]
  },
  {
   "cell_type": "code",
   "execution_count": 7,
   "metadata": {},
   "outputs": [
    {
     "name": "stdout",
     "output_type": "stream",
     "text": [
      "Train prevalence (n = 4826): 0.5\n"
     ]
    }
   ],
   "source": [
    "# split training to positive and negative\n",
    "rows_pos = df_train_all.OUTPUT_LABEL == 1\n",
    "df_train_pos = df_train_all.loc[rows_pos]\n",
    "df_train_neg = df_train_all.loc[~rows_pos]\n",
    "\n",
    "# minimum size of the two splits\n",
    "n = np.min([len(df_train_pos),len(df_train_neg)])\n",
    "\n",
    "# merge the balanced data\n",
    "df_train = pd.concat([df_train_pos.sample(n = n, random_state = 77), \\\n",
    "                      df_train_neg.sample(n = n, random_state = 77)],axis = 0)\n",
    "\n",
    "# shuffle the training samples again\n",
    "df_train = df_train.sample(n = len(df_train), random_state = 77).reset_index(drop = True)\n",
    "\n",
    "# verify that prevalence is balanced now in the training set\n",
    "print('Train prevalence (n = %d):'%len(df_train), df_train.OUTPUT_LABEL.sum()/ len(df_train))"
   ]
  },
  {
   "cell_type": "code",
   "execution_count": 8,
   "metadata": {},
   "outputs": [],
   "source": [
    "# save the train, test, validation sets\n",
    "df_train.to_csv('./df_train.csv',index=False)\n",
    "df_train = pd.read_csv('./df_train.csv')"
   ]
  },
  {
   "cell_type": "markdown",
   "metadata": {},
   "source": [
    "# Step 2. Preprocess Texts from Discharge Summaries"
   ]
  },
  {
   "cell_type": "markdown",
   "metadata": {},
   "source": [
    "Use Bag-of-Words (BOW) approach - break up text into individual words & count up each word"
   ]
  },
  {
   "cell_type": "code",
   "execution_count": 9,
   "metadata": {},
   "outputs": [],
   "source": [
    "# clean up known unnecessary formats in the summary texts\n",
    "def clean_text(df):\n",
    "    df.TEXT = df.TEXT.fillna(' ')\n",
    "    df.TEXT =df.TEXT.str.replace('\\n',' ')\n",
    "    df.TEXT =df.TEXT.str.replace('\\r',' ')\n",
    "    return df"
   ]
  },
  {
   "cell_type": "code",
   "execution_count": 10,
   "metadata": {},
   "outputs": [],
   "source": [
    "df_train = clean_text(df_train)\n",
    "df_valid = clean_text(df_valid)\n",
    "df_test = clean_text(df_test)"
   ]
  },
  {
   "cell_type": "code",
   "execution_count": 11,
   "metadata": {
    "scrolled": false
   },
   "outputs": [],
   "source": [
    "import nltk\n",
    "from nltk import word_tokenize\n",
    "import string\n",
    "\n",
    "# build a custom tokenizer that replaces punctuations and numbers with spaces, makes all words lowercase\n",
    "def custom_token(text):\n",
    "    punc_list = string.punctuation+'0123456789'\n",
    "    t = str.maketrans(dict.fromkeys(punc_list, \" \"))\n",
    "    text = text.lower().translate(t)\n",
    "    tokens = word_tokenize(text)\n",
    "    return tokens"
   ]
  },
  {
   "cell_type": "code",
   "execution_count": 12,
   "metadata": {},
   "outputs": [],
   "source": [
    "# list comprehension to apply custom_token function to every text\n",
    "df_train.TEXT = [custom_token(i) for i in df_train.TEXT]"
   ]
  },
  {
   "cell_type": "code",
   "execution_count": 13,
   "metadata": {},
   "outputs": [
    {
     "name": "stdout",
     "output_type": "stream",
     "text": [
      "Stopwords :  ['the', 'and', 'to', 'of', 'was', 'with', 'a', 'on', 'mg', 'in', 'for', 'tablet', 'no', 'name', 'is', 'po', 'patient', 's', 'he', 'blood', 'daily', 'at', 'sig', 'as', 'or', 'hospital', 'she', 'one', 'discharge', 'day', 'his', 'last', 'left', 'history', 'am', 'her', 'were', 'right', 'you', 'pt', 'not', 'by', 'pm', 'be', 'had', 'your', 'pain', 'this', 'admission', 'date']\n"
     ]
    },
    {
     "data": {
      "image/png": "[encoded data removed]",
      "text/plain": [
       "<Figure size 432x288 with 1 Axes>"
      ]
     },
     "metadata": {},
     "output_type": "display_data"
    }
   ],
   "source": [
    "import itertools\n",
    "from collections import Counter\n",
    "from matplotlib import cm\n",
    "\n",
    "## Extract commonly used words\n",
    "words = Counter(i for i in list(itertools.chain.from_iterable(df_train.TEXT)))\n",
    "top_words = words.most_common(50)\n",
    "stopwords,count = map(list,zip(*top_words))\n",
    "print(\"Stopwords : \",stopwords)\n",
    "\n",
    "circle = plt.Circle((0,0),0.5,color = \"white\")\n",
    "cs = cm.Set1(np.arange(25)/25.)\n",
    "plt.pie(count[:25],labels = stopwords[:25])\n",
    "p = plt.gcf()\n",
    "p.gca().add_artist(circle)\n",
    "plt.show()"
   ]
  },
  {
   "cell_type": "code",
   "execution_count": 14,
   "metadata": {},
   "outputs": [
    {
     "data": {
      "text/plain": [
       "CountVectorizer(analyzer='word', binary=False, decode_error='strict',\n",
       "        dtype=<class 'numpy.int64'>, encoding='utf-8', input='content',\n",
       "        lowercase=True, max_df=1.0, max_features=1000, min_df=1,\n",
       "        ngram_range=(1, 1), preprocessor=None,\n",
       "        stop_words=['the', 'and', 'to', 'of', 'was', 'with', 'a', 'on', 'mg', 'in', 'for', 'tablet', 'no', 'name', 'is', 'po', 'patient', 's', 'he', 'blood', 'daily', 'at', 'sig', 'as', 'or', 'hospital', 'she', 'one', 'discharge', 'day', 'his', 'last', 'left', 'history', 'am', 'her', 'were', 'right', 'you', 'pt', 'not', 'by', 'pm', 'be', 'had', 'your', 'pain', 'this', 'admission', 'date'],\n",
       "        strip_accents=None, token_pattern='(?u)\\\\b\\\\w\\\\w+\\\\b',\n",
       "        tokenizer=<function custom_token at 0x000001C1B46C08C8>,\n",
       "        vocabulary=None)"
      ]
     },
     "execution_count": 14,
     "metadata": {},
     "output_type": "execute_result"
    }
   ],
   "source": [
    "# Vectorizer to draw features from text data\n",
    "from sklearn.feature_extraction.text import CountVectorizer\n",
    "vect = CountVectorizer(max_features = 1000, \n",
    "                       tokenizer = custom_token, \n",
    "                       stop_words = stopwords)\n",
    "df_train.TEXT = [' '.join(i) for i in df_train.TEXT]\n",
    "vect.fit(df_train.TEXT)"
   ]
  },
  {
   "cell_type": "code",
   "execution_count": 15,
   "metadata": {},
   "outputs": [],
   "source": [
    "X_train_tf = vect.transform(df_train.TEXT.values)\n",
    "X_valid_tf = vect.transform(df_valid.TEXT.values)\n",
    "X_test_tf = vect.transform(df_test.TEXT.values)\n",
    "y_train = df_train.OUTPUT_LABEL\n",
    "y_valid = df_valid.OUTPUT_LABEL\n",
    "y_test = df_test.OUTPUT_LABEL"
   ]
  },
  {
   "cell_type": "markdown",
   "metadata": {},
   "source": [
    "# Step 3. Modeling\n",
    "\n",
    "A simple logistic regression was chosen, as suggested from the statement, \"In natural language processing, logistic regression is the baseline supervised machine learning algorithm for classification, and also has a very close\n",
    "relationship with neural networks,\" from Jurafsky and Martin (https://web.stanford.edu/~jurafsky/slp3/5.pdf).\n",
    "\n",
    "Parameter tunings were done on the number of features and the inverse regularization strength using a range of values for each parameter using for loops. Based on the returned AUC values of validation set, the parameter value that returned the highest amongst all was chosen to be used in the final model run. In addition, other performance metrics, such as accuracy, recall, precision, and specificity were computed for the final model."
   ]
  },
  {
   "cell_type": "code",
   "execution_count": 16,
   "metadata": {},
   "outputs": [
    {
     "name": "stderr",
     "output_type": "stream",
     "text": [
      "C:\\Users\\Kim\\Anaconda3\\envs\\deeplearning\\lib\\site-packages\\sklearn\\linear_model\\logistic.py:433: FutureWarning: Default solver will be changed to 'lbfgs' in 0.22. Specify a solver to silence this warning.\n",
      "  FutureWarning)\n"
     ]
    },
    {
     "data": {
      "text/plain": [
       "LogisticRegression(C=0.0001, class_weight=None, dual=False,\n",
       "          fit_intercept=True, intercept_scaling=1, max_iter=1000,\n",
       "          multi_class='warn', n_jobs=None, penalty='l2', random_state=77,\n",
       "          solver='warn', tol=0.0001, verbose=0, warm_start=False)"
      ]
     },
     "execution_count": 16,
     "metadata": {},
     "output_type": "execute_result"
    }
   ],
   "source": [
    "# simple logistic regression\n",
    "from sklearn.linear_model import LogisticRegression\n",
    "clf=LogisticRegression(C = 0.0001, penalty = 'l2', random_state = 77, max_iter=1000)\n",
    "clf.fit(X_train_tf, y_train)"
   ]
  },
  {
   "cell_type": "code",
   "execution_count": 17,
   "metadata": {
    "scrolled": false
   },
   "outputs": [
    {
     "name": "stdout",
     "output_type": "stream",
     "text": [
      "[0 0 1 1 1 0 0 1 1 0]\n",
      "y_train_preds [0.51639842 0.67184582 0.55044169 0.48487768 0.6920366  0.59306616\n",
      " 0.45911095 0.50469508 0.50493512 0.51671693]\n",
      "[0 0 0 0 0 0 0 0 0 0]\n",
      "y_valid_preds [0.83897045 0.4055844  0.39710769 0.41557073 0.49764603 0.44564399\n",
      " 0.52217356 0.45977386 0.46889953 0.47459073]\n",
      "[0 0 0 0 0 0 1 0 0 0]\n",
      "y_test_preds [0.47871924 0.41932639 0.41843145 0.76549252 0.39644388 0.61478832\n",
      " 0.4108972  0.45727495 0.50289758 0.50146156]\n"
     ]
    }
   ],
   "source": [
    "y_train_preds = clf.predict_proba(X_train_tf)[:,1]\n",
    "y_valid_preds = clf.predict_proba(X_valid_tf)[:,1]\n",
    "y_test_preds = clf.predict_proba(X_test_tf)[:,1]\n",
    "print(y_train[:10].values)\n",
    "print('y_train_preds',y_train_preds[:10])\n",
    "print(y_valid[:10].values)\n",
    "print('y_valid_preds',y_valid_preds[:10])\n",
    "print(y_test[:10].values)\n",
    "print('y_test_preds',y_test_preds[:10])"
   ]
  },
  {
   "cell_type": "markdown",
   "metadata": {},
   "source": [
    "# Step 4. Hyperparameter Tuning"
   ]
  },
  {
   "cell_type": "code",
   "execution_count": 26,
   "metadata": {},
   "outputs": [
    {
     "name": "stdout",
     "output_type": "stream",
     "text": [
      "\n",
      " C: 0.005\n"
     ]
    },
    {
     "name": "stderr",
     "output_type": "stream",
     "text": [
      "C:\\Users\\Kim\\Anaconda3\\envs\\deeplearning\\lib\\site-packages\\sklearn\\linear_model\\logistic.py:433: FutureWarning: Default solver will be changed to 'lbfgs' in 0.22. Specify a solver to silence this warning.\n",
      "  FutureWarning)\n"
     ]
    },
    {
     "name": "stdout",
     "output_type": "stream",
     "text": [
      "Train AUC:0.913\n",
      "Valid AUC:0.695\n",
      "\n",
      " C: 0.0001\n"
     ]
    },
    {
     "name": "stderr",
     "output_type": "stream",
     "text": [
      "C:\\Users\\Kim\\Anaconda3\\envs\\deeplearning\\lib\\site-packages\\sklearn\\linear_model\\logistic.py:433: FutureWarning: Default solver will be changed to 'lbfgs' in 0.22. Specify a solver to silence this warning.\n",
      "  FutureWarning)\n"
     ]
    },
    {
     "name": "stdout",
     "output_type": "stream",
     "text": [
      "Train AUC:0.755\n",
      "Valid AUC:0.697\n",
      "\n",
      " C: 5e-05\n",
      "Train AUC:0.737\n",
      "Valid AUC:0.693\n"
     ]
    },
    {
     "name": "stderr",
     "output_type": "stream",
     "text": [
      "C:\\Users\\Kim\\Anaconda3\\envs\\deeplearning\\lib\\site-packages\\sklearn\\linear_model\\logistic.py:433: FutureWarning: Default solver will be changed to 'lbfgs' in 0.22. Specify a solver to silence this warning.\n",
      "  FutureWarning)\n"
     ]
    }
   ],
   "source": [
    "from sklearn.linear_model import LogisticRegression\n",
    "from sklearn.metrics import roc_auc_score\n",
    "# Try a range of inverse of regularization strength; smaller values specify stronger regularization.\n",
    "CC = [0.005, 0.0001, 0.00005]\n",
    "train_aucs = np.zeros(len(CC))\n",
    "valid_aucs = np.zeros(len(CC))\n",
    "test_aucs = np.zeros(len(CC))\n",
    "\n",
    "for ii in range(len(CC)):\n",
    "    C = CC[ii]\n",
    "    print('\\n C:', C)\n",
    "    \n",
    "    # logistic regression\n",
    "    \n",
    "    clf=LogisticRegression(C = C, penalty = 'l2', random_state = 77)\n",
    "    clf.fit(X_train_tf, y_train)\n",
    "\n",
    "    y_train_preds = clf.predict_proba(X_train_tf)[:,1]\n",
    "    y_valid_preds = clf.predict_proba(X_valid_tf)[:,1]\n",
    "\n",
    "    auc_train = roc_auc_score(y_train, y_train_preds)\n",
    "    auc_valid = roc_auc_score(y_valid, y_valid_preds)\n",
    "    print('Train AUC:%.3f'%auc_train)\n",
    "    print('Valid AUC:%.3f'%auc_valid)\n",
    "    train_aucs[ii] = auc_train\n",
    "    valid_aucs[ii] = auc_valid\n",
    "\n",
    "OptStrength = 0.0001\n",
    "# Optimized Inv Reg Strength that Maximize Val Acc: 0.0001"
   ]
  },
  {
   "cell_type": "code",
   "execution_count": 27,
   "metadata": {
    "scrolled": false
   },
   "outputs": [
    {
     "name": "stdout",
     "output_type": "stream",
     "text": [
      "\n",
      "number of features: 1000\n"
     ]
    },
    {
     "name": "stderr",
     "output_type": "stream",
     "text": [
      "C:\\Users\\Kim\\Anaconda3\\envs\\deeplearning\\lib\\site-packages\\sklearn\\linear_model\\logistic.py:433: FutureWarning: Default solver will be changed to 'lbfgs' in 0.22. Specify a solver to silence this warning.\n",
      "  FutureWarning)\n"
     ]
    },
    {
     "name": "stdout",
     "output_type": "stream",
     "text": [
      "Train AUC: 0.738\n",
      "Valid AUC:0.687\n",
      "\n",
      "number of features: 2000\n"
     ]
    },
    {
     "name": "stderr",
     "output_type": "stream",
     "text": [
      "C:\\Users\\Kim\\Anaconda3\\envs\\deeplearning\\lib\\site-packages\\sklearn\\linear_model\\logistic.py:433: FutureWarning: Default solver will be changed to 'lbfgs' in 0.22. Specify a solver to silence this warning.\n",
      "  FutureWarning)\n"
     ]
    },
    {
     "name": "stdout",
     "output_type": "stream",
     "text": [
      "Train AUC: 0.750\n",
      "Valid AUC:0.695\n",
      "\n",
      "number of features: 3000\n"
     ]
    },
    {
     "name": "stderr",
     "output_type": "stream",
     "text": [
      "C:\\Users\\Kim\\Anaconda3\\envs\\deeplearning\\lib\\site-packages\\sklearn\\linear_model\\logistic.py:433: FutureWarning: Default solver will be changed to 'lbfgs' in 0.22. Specify a solver to silence this warning.\n",
      "  FutureWarning)\n"
     ]
    },
    {
     "name": "stdout",
     "output_type": "stream",
     "text": [
      "Train AUC: 0.755\n",
      "Valid AUC:0.697\n",
      "\n",
      "number of features: 4000\n"
     ]
    },
    {
     "name": "stderr",
     "output_type": "stream",
     "text": [
      "C:\\Users\\Kim\\Anaconda3\\envs\\deeplearning\\lib\\site-packages\\sklearn\\linear_model\\logistic.py:433: FutureWarning: Default solver will be changed to 'lbfgs' in 0.22. Specify a solver to silence this warning.\n",
      "  FutureWarning)\n"
     ]
    },
    {
     "name": "stdout",
     "output_type": "stream",
     "text": [
      "Train AUC: 0.758\n",
      "Valid AUC:0.698\n"
     ]
    }
   ],
   "source": [
    "# Try different number of features\n",
    "num_features = [1000,2000,3000,4000]\n",
    "train_aucs = np.zeros(len(num_features))\n",
    "valid_aucs = np.zeros(len(num_features))\n",
    "\n",
    "for ii in range(len(num_features)):\n",
    "    num = num_features[ii]\n",
    "    print('\\nnumber of features:', num)\n",
    "    vect = CountVectorizer(lowercase = True, max_features = num, \n",
    "                           tokenizer = custom_token,stop_words =stopwords)\n",
    "\n",
    "    # This could take a while\n",
    "    vect.fit(df_train.TEXT.values)\n",
    "\n",
    "    X_train_tf = vect.transform(df_train.TEXT.values)\n",
    "    X_valid_tf = vect.transform(df_valid.TEXT.values)\n",
    "    y_train = df_train.OUTPUT_LABEL\n",
    "    y_valid = df_valid.OUTPUT_LABEL\n",
    "    \n",
    "    clf=LogisticRegression(C = 0.0001, penalty = 'l2', random_state = 42)\n",
    "    clf.fit(X_train_tf, y_train)\n",
    "\n",
    "    model = clf\n",
    "    y_train_preds = model.predict_proba(X_train_tf)[:,1]\n",
    "    y_valid_preds = model.predict_proba(X_valid_tf)[:,1]\n",
    "\n",
    "    auc_train = roc_auc_score(y_train, y_train_preds)\n",
    "    auc_valid = roc_auc_score(y_valid, y_valid_preds)\n",
    "    print('Train AUC: %.3f'%auc_train)\n",
    "    print('Valid AUC:%.3f'%auc_valid)\n",
    "    train_aucs[ii] = auc_train\n",
    "    valid_aucs[ii] = auc_valid\n",
    "\n",
    "OptFeat = 3000\n",
    "# Optimized Number of Features that Maximize Val Acc: 3000"
   ]
  },
  {
   "cell_type": "markdown",
   "metadata": {},
   "source": [
    "# Step 5. Rerun Logistic Regression Model with Tuned Parameters"
   ]
  },
  {
   "cell_type": "code",
   "execution_count": 14,
   "metadata": {},
   "outputs": [],
   "source": [
    "# Vectorizer to draw features from text data\n",
    "from sklearn.feature_extraction.text import CountVectorizer\n",
    "vect = CountVectorizer(max_features = 3000, \n",
    "                       tokenizer = custom_token, \n",
    "                       stop_words = stopwords)\n",
    "df_train.TEXT = [' '.join(i) for i in df_train.TEXT]\n",
    "vect.fit(df_train.TEXT)\n",
    "X_train_tf = vect.transform(df_train.TEXT.values)\n",
    "X_valid_tf = vect.transform(df_valid.TEXT.values)\n",
    "X_test_tf = vect.transform(df_test.TEXT.values)\n",
    "y_train = df_train.OUTPUT_LABEL\n",
    "y_valid = df_valid.OUTPUT_LABEL\n",
    "y_test = df_test.OUTPUT_LABEL"
   ]
  },
  {
   "cell_type": "code",
   "execution_count": 15,
   "metadata": {},
   "outputs": [
    {
     "name": "stderr",
     "output_type": "stream",
     "text": [
      "C:\\Users\\Kim\\Anaconda3\\envs\\deeplearning\\lib\\site-packages\\sklearn\\linear_model\\logistic.py:433: FutureWarning: Default solver will be changed to 'lbfgs' in 0.22. Specify a solver to silence this warning.\n",
      "  FutureWarning)\n"
     ]
    },
    {
     "data": {
      "text/plain": [
       "LogisticRegression(C=0.0001, class_weight=None, dual=False,\n",
       "          fit_intercept=True, intercept_scaling=1, max_iter=500,\n",
       "          multi_class='warn', n_jobs=None, penalty='l2', random_state=77,\n",
       "          solver='warn', tol=0.0001, verbose=0, warm_start=False)"
      ]
     },
     "execution_count": 15,
     "metadata": {},
     "output_type": "execute_result"
    }
   ],
   "source": [
    "# simple logistic regression\n",
    "from sklearn.linear_model import LogisticRegression\n",
    "clf=LogisticRegression(C = 0.0001, penalty = 'l2', random_state = 77, max_iter=500)\n",
    "clf.fit(X_train_tf, y_train)"
   ]
  },
  {
   "cell_type": "code",
   "execution_count": 16,
   "metadata": {},
   "outputs": [
    {
     "name": "stdout",
     "output_type": "stream",
     "text": [
      "[0 0 1 1 1 0 0 1 1 0]\n",
      "y_train_preds [0.51107283 0.68266401 0.54889277 0.48188072 0.71540015 0.57873329\n",
      " 0.46380461 0.51092805 0.48763449 0.51282263]\n",
      "[0 0 0 0 0 0 0 0 0 0]\n",
      "y_valid_preds [0.85013704 0.40763174 0.39290267 0.41504204 0.49774853 0.46075159\n",
      " 0.52621078 0.46153866 0.47022739 0.47631434]\n",
      "[0 0 0 0 0 0 1 0 0 0]\n",
      "y_test_preds [0.46536408 0.40427086 0.42171994 0.77635747 0.38892903 0.61646612\n",
      " 0.39633968 0.45454264 0.50328369 0.502804  ]\n"
     ]
    }
   ],
   "source": [
    "y_train_preds = clf.predict_proba(X_train_tf)[:,1]\n",
    "y_valid_preds = clf.predict_proba(X_valid_tf)[:,1]\n",
    "y_test_preds = clf.predict_proba(X_test_tf)[:,1]\n",
    "print(y_train[:10].values)\n",
    "print('y_train_preds',y_train_preds[:10])\n",
    "print(y_valid[:10].values)\n",
    "print('y_valid_preds',y_valid_preds[:10])\n",
    "print(y_test[:10].values)\n",
    "print('y_test_preds',y_test_preds[:10])"
   ]
  },
  {
   "cell_type": "markdown",
   "metadata": {},
   "source": [
    "# Step 6. Performance Metrics"
   ]
  },
  {
   "cell_type": "code",
   "execution_count": 28,
   "metadata": {},
   "outputs": [],
   "source": [
    "def calc_specificity(y_actual, y_pred, thresh):\n",
    "    # calculates specificity\n",
    "    return sum((y_pred < thresh) & (y_actual == 0)) /sum(y_actual ==0)\n",
    "def calc_sensitivity(y_actual, y_pred, thresh):\n",
    "    # calculates sensitivity\n",
    "    return sum((y_pred > thresh) & (y_actual == 1)) /sum(y_actual ==1)"
   ]
  },
  {
   "cell_type": "code",
   "execution_count": 29,
   "metadata": {
    "scrolled": true
   },
   "outputs": [
    {
     "name": "stdout",
     "output_type": "stream",
     "text": [
      "Train AUC:0.758\n",
      "Valid AUC:0.698\n",
      "Test AUC:0.677\n",
      "Train accuracy:0.694\n",
      "Valid accuracy:0.668\n",
      "Test accuracy:0.671\n",
      "Train recall:0.687\n",
      "Valid recall:0.660\n",
      "Test recall:0.590\n",
      "Train precision:0.697\n",
      "Valid precision:0.107\n",
      "Test precision:0.102\n",
      "Train specificity:0.702\n",
      "Valid specificity:0.668\n",
      "Test specificity:0.676\n",
      "Train sensitivity:0.687\n",
      "Valid sensitivity:0.660\n",
      "Test sensitivity:0.590\n"
     ]
    },
    {
     "data": {
      "image/png": "[encoded data removed]",
      "text/plain": [
       "<Figure size 432x288 with 1 Axes>"
      ]
     },
     "metadata": {
      "needs_background": "light"
     },
     "output_type": "display_data"
    }
   ],
   "source": [
    "from sklearn.metrics import roc_curve, roc_auc_score, accuracy_score, recall_score, precision_score\n",
    "from sklearn.metrics import roc_auc_score\n",
    "\n",
    "fpr_train, tpr_train, thresholds_train = roc_curve(y_train, y_train_preds)\n",
    "fpr_valid, tpr_valid, thresholds_valid = roc_curve(y_valid, y_valid_preds)\n",
    "fpr_test, tpr_test, thresholds_test = roc_curve(y_test, y_test_preds)\n",
    "\n",
    "\n",
    "thresh = 0.5\n",
    "\n",
    "auc_train = roc_auc_score(y_train, y_train_preds)\n",
    "auc_valid = roc_auc_score(y_valid, y_valid_preds)\n",
    "auc_test = roc_auc_score(y_test, y_test_preds)\n",
    "\n",
    "print('Train AUC:%.3f'%auc_train)\n",
    "print('Valid AUC:%.3f'%auc_valid)\n",
    "print('Test AUC:%.3f'%auc_test)\n",
    "\n",
    "print('Train accuracy:%.3f'%accuracy_score(y_train, y_train_preds >= thresh))\n",
    "print('Valid accuracy:%.3f'%accuracy_score(y_valid, y_valid_preds >= thresh))\n",
    "print('Test accuracy:%.3f'%accuracy_score(y_test, y_test_preds >= thresh))\n",
    "\n",
    "print('Train recall:%.3f'%recall_score(y_train, y_train_preds>= thresh))\n",
    "print('Valid recall:%.3f'%recall_score(y_valid, y_valid_preds>= thresh))\n",
    "print('Test recall:%.3f'%recall_score(y_test, y_test_preds>= thresh))\n",
    "\n",
    "print('Train precision:%.3f'%precision_score(y_train, y_train_preds>= thresh))\n",
    "print('Valid precision:%.3f'%precision_score(y_valid, y_valid_preds>= thresh))\n",
    "print('Test precision:%.3f'%precision_score(y_test, y_test_preds>= thresh))\n",
    "\n",
    "print('Train specificity:%.3f'%calc_specificity(y_train, y_train_preds, thresh))\n",
    "print('Valid specificity:%.3f'%calc_specificity(y_valid, y_valid_preds, thresh))\n",
    "print('Test specificity:%.3f'%calc_specificity(y_test, y_test_preds, thresh))\n",
    "\n",
    "print('Train sensitivity:%.3f'%calc_sensitivity(y_train, y_train_preds, thresh))\n",
    "print('Valid sensitivity:%.3f'%calc_sensitivity(y_valid, y_valid_preds, thresh))\n",
    "print('Test sensitivity:%.3f'%calc_sensitivity(y_test, y_test_preds, thresh))\n",
    "\n",
    "plt.plot(fpr_train, tpr_train,'r-', label = 'Train AUC: %.2f'%auc_train)\n",
    "plt.plot(fpr_valid, tpr_valid,'b-',label = 'Valid AUC: %.2f'%auc_valid)\n",
    "plt.plot(fpr_test, tpr_test,'g-',label = 'Test AUC: %.2f'%auc_test)\n",
    "plt.plot([0,1],[0,1],'-k')\n",
    "plt.xlabel('False Positive Rate',fontsize = 15)\n",
    "plt.ylabel('True Positive Rate',fontsize = 15)\n",
    "plt.legend(fontsize = 15)\n",
    "plt.xticks(fontsize = 15)\n",
    "plt.yticks(fontsize = 15)\n",
    "plt.show()"
   ]
  },
  {
   "cell_type": "code",
   "execution_count": 19,
   "metadata": {},
   "outputs": [],
   "source": [
    "import numpy as np\n",
    "from sklearn.model_selection import learning_curve\n",
    "from sklearn.model_selection import ShuffleSplit\n",
    "\n",
    "\n",
    "def plot_learning_curve(estimator, title, X, y, ylim=None, cv=None,\n",
    "                        n_jobs=1, train_sizes=np.linspace(.1, 1.0, 5)):\n",
    "    \"\"\"\n",
    "    Generate a simple plot of the test and training learning curve.\n",
    "\n",
    "    Parameters\n",
    "    ----------\n",
    "    estimator : object type that implements the \"fit\" and \"predict\" methods\n",
    "        An object of that type which is cloned for each validation.\n",
    "\n",
    "    title : string\n",
    "        Title for the chart.\n",
    "\n",
    "    X : array-like, shape (n_samples, n_features)\n",
    "        Training vector, where n_samples is the number of samples and\n",
    "        n_features is the number of features.\n",
    "\n",
    "    y : array-like, shape (n_samples) or (n_samples, n_features), optional\n",
    "        Target relative to X for classification or regression;\n",
    "        None for unsupervised learning.\n",
    "\n",
    "    ylim : tuple, shape (ymin, ymax), optional\n",
    "        Defines minimum and maximum yvalues plotted.\n",
    "\n",
    "    cv : int, cross-validation generator or an iterable, optional\n",
    "        Determines the cross-validation splitting strategy.\n",
    "        Possible inputs for cv are:\n",
    "          - None, to use the default 3-fold cross-validation,\n",
    "          - integer, to specify the number of folds.\n",
    "          - An object to be used as a cross-validation generator.\n",
    "          - An iterable yielding train/test splits.\n",
    "\n",
    "        For integer/None inputs, if ``y`` is binary or multiclass,\n",
    "        :class:`StratifiedKFold` used. If the estimator is not a classifier\n",
    "        or if ``y`` is neither binary nor multiclass, :class:`KFold` is used.\n",
    "\n",
    "        Refer :ref:`User Guide <cross_validation>` for the various\n",
    "        cross-validators that can be used here.\n",
    "\n",
    "    n_jobs : integer, optional\n",
    "        Number of jobs to run in parallel (default 1).\n",
    "    \"\"\"\n",
    "    plt.figure()\n",
    "    plt.title(title)\n",
    "    if ylim is not None:\n",
    "        plt.ylim(*ylim)\n",
    "    plt.xlabel(\"Training examples\")\n",
    "    plt.ylabel(\"AUC\")\n",
    "    train_sizes, train_scores, test_scores = learning_curve(\n",
    "        estimator, X, y, cv=cv, n_jobs=n_jobs, train_sizes=train_sizes, scoring = 'roc_auc')\n",
    "    train_scores_mean = np.mean(train_scores, axis=1)\n",
    "    train_scores_std = np.std(train_scores, axis=1)\n",
    "    test_scores_mean = np.mean(test_scores, axis=1)\n",
    "    test_scores_std = np.std(test_scores, axis=1)\n",
    "    plt.grid()\n",
    "\n",
    "    plt.fill_between(train_sizes, train_scores_mean - train_scores_std,\n",
    "                     train_scores_mean + train_scores_std, alpha=0.1,\n",
    "                     color=\"r\")\n",
    "    plt.fill_between(train_sizes, test_scores_mean - test_scores_std,\n",
    "                     test_scores_mean + test_scores_std, alpha=0.1, color=\"b\")\n",
    "    plt.plot(train_sizes, train_scores_mean, 'o-', color=\"r\",\n",
    "             label=\"Training score\")\n",
    "    plt.plot(train_sizes, test_scores_mean, 'o-', color=\"b\",\n",
    "             label=\"Cross-validation score\")\n",
    "\n",
    "    plt.legend(loc=\"best\")\n",
    "    return plt"
   ]
  },
  {
   "cell_type": "code",
   "execution_count": 20,
   "metadata": {
    "scrolled": true
   },
   "outputs": [
    {
     "data": {
      "image/png": "[encoded data removed]",
      "text/plain": [
       "<Figure size 432x288 with 1 Axes>"
      ]
     },
     "metadata": {
      "needs_background": "light"
     },
     "output_type": "display_data"
    }
   ],
   "source": [
    "title = \"Learning Curves (Logistic Regression)\"\n",
    "# Use 5-fold cross-validation\n",
    "cv = ShuffleSplit(n_splits=5, test_size=0.1, random_state=77)\n",
    "estimator = LogisticRegression( C = 0.0001, penalty = 'l2')#\n",
    "plot_learning_curve(estimator, title, X_train_tf, y_train, ylim=(0.2, 1.01), cv=cv, n_jobs=5)\n",
    "\n",
    "plt.show()"
   ]
  },
  {
   "cell_type": "markdown",
   "metadata": {},
   "source": [
    "# Step 7. Visualize Feature Importance"
   ]
  },
  {
   "cell_type": "code",
   "execution_count": 21,
   "metadata": {},
   "outputs": [],
   "source": [
    "feature_importances = pd.DataFrame(clf.coef_[0],\n",
    "                                   index = vect.get_feature_names(),\n",
    "                                    columns=['importance']).sort_values('importance',\n",
    "                                                                        ascending=False)"
   ]
  },
  {
   "cell_type": "code",
   "execution_count": 30,
   "metadata": {},
   "outputs": [
    {
     "data": {
      "image/png": "[encoded data removed]",
      "text/plain": [
       "<Figure size 560x560 with 1 Axes>"
      ]
     },
     "metadata": {},
     "output_type": "display_data"
    }
   ],
   "source": [
    "# top 20 positive features (those related to predicting readmission <30 days)\n",
    "num = 20\n",
    "ylocs = np.arange(num)\n",
    "values_to_plot = feature_importances.iloc[:num].values.ravel()[::-1]\n",
    "feature_labels = list(feature_importances.iloc[:num].index)[::-1]\n",
    "\n",
    "plt.figure(num=None, figsize=(7, 7), dpi=80, facecolor='w', edgecolor='k');\n",
    "plt.barh(ylocs, values_to_plot, align = 'center', color = 'blue')\n",
    "plt.ylabel('Features')\n",
    "plt.xlabel('Importance Score')\n",
    "plt.title('Positive Feature Importance Score - Logistic Regression')\n",
    "plt.yticks(ylocs, feature_labels)\n",
    "plt.show()"
   ]
  },
  {
   "cell_type": "code",
   "execution_count": 31,
   "metadata": {
    "scrolled": false
   },
   "outputs": [
    {
     "data": {
      "image/png": "[encoded data removed]",
      "text/plain": [
       "<Figure size 560x560 with 1 Axes>"
      ]
     },
     "metadata": {},
     "output_type": "display_data"
    }
   ],
   "source": [
    "# top 20 positive features (those related to predicting NO readmission <30 days)\n",
    "values_to_plot = feature_importances.iloc[-num:].values.ravel()\n",
    "feature_labels = list(feature_importances.iloc[-num:].index)\n",
    "\n",
    "plt.figure(num=None, figsize=(7, 7), dpi=80, facecolor='w', edgecolor='k');\n",
    "plt.barh(ylocs, values_to_plot, align = 'center', color = 'red')\n",
    "plt.ylabel('Features')\n",
    "plt.xlabel('Importance Score')\n",
    "plt.title('Top Negative Features - Logistic Regression')\n",
    "plt.yticks(ylocs, feature_labels)\n",
    "plt.show()"
   ]
  },
  {
   "cell_type": "markdown",
   "metadata": {},
   "source": [
    "# Suggestions:\n",
    "\n",
    "Overall, the model performed reasonably well, obtaining validation and test accuracies of roughly 70%. In real clinical settings, though further optimizations and improvements must be made, this model may be applied by asking the clinician for a current status report of the patient during their stay, which can then be text-tokenized and run through the model to give a probability of whether it is more likely that the patient would readmit within 30 days if he/she left right now or not. If the returned probability is very high, then extra care may be considered for the patient.\n",
    "\n",
    "Perhaps for a future work, Natural Language Processing may be used on Nurse reports (also in NoteEvents.csv). I was cautious about using this particular text data, as looking at some samples from MIMIC-III, they seemed to revolve more on lab test results and recording of future plans for the patients. However, it may be that this information also has some predictive power, so testing the model with this data instead may be worth simulating. In addition, the number of features, inclusion/exclusion of certain stopwords, and inverse regularization strength all can be further calibrated for optimal performance, given more time."
   ]
  }
 ],
 "metadata": {
  "kernelspec": {
   "display_name": "Python (deeplearning)",
   "language": "python",
   "name": "deeplearning"
  },
  "language_info": {
   "codemirror_mode": {
    "name": "ipython",
    "version": 3
   },
   "file_extension": ".py",
   "mimetype": "text/x-python",
   "name": "python",
   "nbconvert_exporter": "python",
   "pygments_lexer": "ipython3",
   "version": "3.7.1"
  }
 },
 "nbformat": 4,
 "nbformat_minor": 2
}
